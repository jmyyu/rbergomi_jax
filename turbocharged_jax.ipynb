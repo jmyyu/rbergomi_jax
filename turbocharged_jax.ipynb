{
 "cells": [
  {
   "cell_type": "markdown",
   "metadata": {
    "nbpresent": {
     "id": "b590a017-9bad-4ff8-ac89-d1d90e1ebf09"
    }
   },
   "source": [
    "Turbocharged demo\n",
    "=="
   ]
  },
  {
   "cell_type": "markdown",
   "metadata": {},
   "source": [
    "We demonstrate the rough Bergomi (rBergomi) price process introduced by [Bayer, Friz and Gatheral](https://ssrn.com/abstract=2554754), which we define here by"
   ]
  },
  {
   "cell_type": "markdown",
   "metadata": {},
   "source": [
    "$$S_t := \\exp \\left\\{ \\int_0^t \\sqrt{ V_u } \\mathrm{d}B_u - \\frac{1}{2}\\int_0^t V_u \\mathrm{d}u \\right\\},\\quad B_u:=\\rho W_u^1 + \\sqrt{1 - \\rho^2}W_u^2, $$"
   ]
  },
  {
   "cell_type": "markdown",
   "metadata": {},
   "source": [
    "$$V_t := \\xi\\ \\exp \\left\\{ \\eta Y^a_t - \\frac{\\eta^2}{2} t^{2a + 1}\\right\\}, \\quad Y_t^a := \\sqrt{2a + 1} \\int_0^t (t - u)^a  \\mathrm{d}W^1_u,$$"
   ]
  },
  {
   "cell_type": "markdown",
   "metadata": {},
   "source": [
    "for Brownian motion $(W^1, W^2)$. The *hybrid scheme* of [Bennedsen, Lunde and Pakkanen](https://arxiv.org/abs/1507.03004) is used for efficient, $\\mathcal{O}(n\\log n)$, simulation of the Volterra process, $Y_t^a$."
   ]
  },
  {
   "cell_type": "markdown",
   "metadata": {},
   "source": [
    "From $N$ samples of the price process, $\\{S^i_t\\}_{i = 1}^N$ , we show implied volatilities, $\\hat{\\sigma}^N_{BS}(k,t)$,  using estimators of the form"
   ]
  },
  {
   "cell_type": "markdown",
   "metadata": {},
   "source": [
    "$$\\hat{\\sigma}^N_{BS}(k,t)^2 t = BS^{-1}\\left(\\hat{C}_N(k,t)\\right),\\quad \\hat{C}_N(k,t) = \\frac{1}{N}\\sum_{i = 1}^N (X_i + c Y_i) - c\\mathbb{E}[Y],$$"
   ]
  },
  {
   "cell_type": "markdown",
   "metadata": {},
   "source": [
    "as described in [McCrickerd and Pakkanen](https://arxiv.org/abs/1708.02563). For simplicity, we just use call option estimators (rather than OTM option estimators) and do not use antithetic sampling here."
   ]
  },
  {
   "cell_type": "markdown",
   "metadata": {},
   "source": [
    "We thus define a Base estimator here by $$X = \\max(S_t - e^k,0),\\quad Y = 0$$ and a Mixed estimator by $$X = BS\\left((1 - \\rho^2)\\int_0^t V_u\\mathrm{d}u; S^1_t,k\\right),\\quad Y = BS\\left(\\rho^2\\left(Q - \\int_0^t V_u\\mathrm{d}u\\right); S^1_t,k\\right)$$"
   ]
  },
  {
   "cell_type": "markdown",
   "metadata": {},
   "source": [
    "where $S^1_t$ is the parallel component of the price process, defined by $$S^1_t := \\exp \\left\\{ \\rho\\int_0^t \\sqrt{ V_u } \\mathrm{d}W^1_u - \\frac{\\rho^2}{2}\\int_0^t V_u \\mathrm{d}u \\right\\}.$$"
   ]
  },
  {
   "cell_type": "markdown",
   "metadata": {},
   "source": [
    "While most computations are hidden in the methods of the rBergomi class, we expose the Mixed estimator calculations in this notebook for transparency."
   ]
  },
  {
   "cell_type": "markdown",
   "metadata": {
    "nbpresent": {
     "id": "4523a2f1-a876-4216-a222-c3e0c4d62e9a"
    }
   },
   "source": [
    "Change directory to folder with rBergomi scripts"
   ]
  },
  {
   "cell_type": "code",
   "execution_count": 1,
   "metadata": {
    "nbpresent": {
     "id": "d3eb17f0-eba6-4483-b962-9fc62b4ae12b"
    }
   },
   "outputs": [],
   "source": [
    "import os\n",
    "os.chdir('D:/pyfops/')\n",
    "import jax; jax.config.update(\"jax_enable_x64\", True)\n",
    "import time; time_start = time.time()"
   ]
  },
  {
   "cell_type": "markdown",
   "metadata": {
    "nbpresent": {
     "id": "d95b28a8-a3ad-42d8-b1de-453db5f619a8"
    }
   },
   "source": [
    "Import required libraries, classes and functions"
   ]
  },
  {
   "cell_type": "code",
   "execution_count": 2,
   "metadata": {
    "nbpresent": {
     "id": "577b9e39-b12e-4ca8-9b95-fdb814c09a91"
    },
    "scrolled": true
   },
   "outputs": [],
   "source": [
    "import jax.numpy as jnp\n",
    "from jax.random import key\n",
    "from matplotlib import pyplot as plt\n",
    "import src.core.forecasting.rough_bergomi.jax_rbergomi as rB\n",
    "vec_bsinv = jnp.vectorize(rB.bs_inv)\n",
    "#% matplotlib inline"
   ]
  },
  {
   "cell_type": "markdown",
   "metadata": {},
   "source": [
    "Create instance of the rBergomi class with $n$ steps per year, $N$ paths, maximum maturity $T$ and roughness index $a$"
   ]
  },
  {
   "cell_type": "code",
   "execution_count": 3,
   "metadata": {},
   "outputs": [],
   "source": [
    "n = 365\n",
    "N = 100_000\n",
    "T = 0.25\n",
    "H = 0.07\n",
    "rho = -0.9\n",
    "xi = 0.235**2\n",
    "eta = 1.9\n",
    "\n",
    "a = H-0.5\n",
    "dt = 1./n\n",
    "s = int(n*T)\n",
    "t=jnp.linspace(0, T, 1+s)[jnp.newaxis, :]\n",
    "\n",
    "e = jnp.array([0,0])\n",
    "c = rB.cov(a, n)"
   ]
  },
  {
   "cell_type": "markdown",
   "metadata": {
    "nbpresent": {
     "id": "104e4831-a151-403d-91de-d5190e5f4001"
    }
   },
   "source": [
    "Fix the generator's seed for replicable results"
   ]
  },
  {
   "cell_type": "code",
   "execution_count": 4,
   "metadata": {
    "collapsed": true,
    "nbpresent": {
     "id": "1ff02865-583a-4770-a987-c941f24cccc6"
    }
   },
   "outputs": [],
   "source": [
    "key = key(0)"
   ]
  },
  {
   "cell_type": "markdown",
   "metadata": {
    "nbpresent": {
     "id": "6edc32ba-80b0-41e0-a268-bcd279fbf478"
    }
   },
   "source": [
    "Generate required Brownian increments"
   ]
  },
  {
   "cell_type": "code",
   "execution_count": 5,
   "metadata": {
    "collapsed": true,
    "nbpresent": {
     "id": "d48220f4-a06c-4182-b6ea-bfdef938934b"
    }
   },
   "outputs": [
    {
     "name": "stdout",
     "output_type": "stream",
     "text": [
      "(100000, 91, 2) (100000, 91)\n",
      "0.9630005359649658\n"
     ]
    }
   ],
   "source": [
    "time_=time.time()\n",
    "key, subkey1, subkey2 = jax.random.split(key, 3)\n",
    "dW1, _ = rB.dW1(subkey1, e, c, N, s)\n",
    "dW2, _ = rB.dW2(subkey2, N, s, dt)\n",
    "print(dW1.shape, dW2.shape)\n",
    "print(time.time()-time_)"
   ]
  },
  {
   "cell_type": "markdown",
   "metadata": {
    "nbpresent": {
     "id": "fda3303d-3c49-4b89-b4f4-049d78ded1f1"
    }
   },
   "source": [
    "Construct the Volterra process, $$Y_t^a := \\sqrt{2a + 1} \\int_0^t (t - u)^a  \\mathrm{d}W^1_u$$"
   ]
  },
  {
   "cell_type": "code",
   "execution_count": 6,
   "metadata": {
    "collapsed": true,
    "nbpresent": {
     "id": "5e7430b0-873d-4756-ab2c-f4069dc668b3"
    }
   },
   "outputs": [
    {
     "name": "stdout",
     "output_type": "stream",
     "text": [
      "1.4108710289001465\n"
     ]
    }
   ],
   "source": [
    "Ya = rB.Y(N, s, n, a, dW1)\n",
    "print(time.time()-time_)"
   ]
  },
  {
   "cell_type": "markdown",
   "metadata": {},
   "source": [
    "Correlate the orthogonal increments, using $\\rho$, $$B_u:=\\rho W_u^1 + \\sqrt{1 - \\rho^2}W_u^2$$"
   ]
  },
  {
   "cell_type": "code",
   "execution_count": 7,
   "metadata": {
    "collapsed": true,
    "nbpresent": {
     "id": "f95288a5-2adb-483f-8488-c6ebd08f1027"
    }
   },
   "outputs": [
    {
     "name": "stdout",
     "output_type": "stream",
     "text": [
      "1.467517614364624\n"
     ]
    }
   ],
   "source": [
    "dB = rB.dB(dW1, dW2, rho)\n",
    "print(time.time()-time_)"
   ]
  },
  {
   "cell_type": "markdown",
   "metadata": {
    "nbpresent": {
     "id": "b39ab489-9218-4ba6-a971-74813f713283"
    }
   },
   "source": [
    "Construct the variance process, using $\\xi$ and $\\eta$, $$V_t := \\xi\\ \\exp \\left\\{ \\eta Y^a_t - \\frac{\\eta^2}{2} t^{2a + 1}\\right\\}$$"
   ]
  },
  {
   "cell_type": "code",
   "execution_count": 8,
   "metadata": {
    "collapsed": true,
    "nbpresent": {
     "id": "207584be-40fb-4957-833c-0e11ab89433d"
    }
   },
   "outputs": [
    {
     "name": "stdout",
     "output_type": "stream",
     "text": [
      "1.5545532703399658\n"
     ]
    }
   ],
   "source": [
    "V = rB.V(Ya, xi, eta, t, a) \n",
    "print(time.time()-time_)"
   ]
  },
  {
   "cell_type": "markdown",
   "metadata": {
    "nbpresent": {
     "id": "83d17e74-5d6a-4f1a-a58d-349d082fb1df"
    }
   },
   "source": [
    "Finally construct the price processes, $$S_t := \\exp \\left\\{ \\int_0^t \\sqrt{ V_u } \\mathrm{d}B_u - \\frac{1}{2}\\int_0^t V_u \\mathrm{d}u \\right\\},\\quad S^1_t := \\exp \\left\\{ \\rho\\int_0^t \\sqrt{ V_u } \\mathrm{d}W^1_u - \\frac{\\rho^2}{2}\\int_0^t V_u \\mathrm{d}u \\right\\}$$"
   ]
  },
  {
   "cell_type": "code",
   "execution_count": 9,
   "metadata": {
    "collapsed": true,
    "nbpresent": {
     "id": "698f4b14-0398-46bb-88aa-c822fcff2ad1"
    }
   },
   "outputs": [
    {
     "name": "stdout",
     "output_type": "stream",
     "text": [
      "2.559155225753784\n"
     ]
    }
   ],
   "source": [
    "S = rB.S(V, dB, 1., dt)\n",
    "S1 = rB.S1(V, dW1, rho, 1., dt)\n",
    "print(time.time() - time_)"
   ]
  },
  {
   "cell_type": "markdown",
   "metadata": {},
   "source": [
    "Now set log-strikes, $k$"
   ]
  },
  {
   "cell_type": "code",
   "execution_count": 10,
   "metadata": {},
   "outputs": [
    {
     "name": "stdout",
     "output_type": "stream",
     "text": [
      "(1, 3)\n"
     ]
    }
   ],
   "source": [
    "k = jnp.array([-0.1787,0.0000,0.1041])\n",
    "K = jnp.exp(k)[jnp.newaxis,:]\n",
    "print(K.shape)"
   ]
  },
  {
   "cell_type": "markdown",
   "metadata": {},
   "source": [
    "and known implied volatilities for this model specification"
   ]
  },
  {
   "cell_type": "code",
   "execution_count": 11,
   "metadata": {
    "collapsed": true
   },
   "outputs": [],
   "source": [
    "implied_vols = jnp.array([0.2961,0.2061,0.1576])[:,jnp.newaxis]"
   ]
  },
  {
   "cell_type": "code",
   "execution_count": 12,
   "metadata": {},
   "outputs": [],
   "source": [
    "def n_req(payoffs, z=1.96, rel_error=0.001):\n",
    "    price = jnp.mean(payoffs, axis=0)[:, jnp.newaxis]\n",
    "    stddev = jnp.std(payoffs, axis=0)[:, jnp.newaxis]\n",
    "\n",
    "    target_error = rel_error * price\n",
    "    return ((z * stddev) / target_error) ** 2"
   ]
  },
  {
   "cell_type": "markdown",
   "metadata": {},
   "source": [
    "Compute Base call payoffs, prices, and estimated volatilities,"
   ]
  },
  {
   "cell_type": "code",
   "execution_count": 13,
   "metadata": {},
   "outputs": [
    {
     "name": "stdout",
     "output_type": "stream",
     "text": [
      "[[46609.2813788]]\n",
      "(3, 1) 1.0 (3, 1) 0.25\n",
      "[[0.29649527]\n",
      " [0.2064553 ]\n",
      " [0.16007107]]\n"
     ]
    }
   ],
   "source": [
    "ST = S[:,-1][:,jnp.newaxis]\n",
    "print(n_req(ST))\n",
    "base_payoffs = jnp.where(K > 1, jnp.maximum(ST - K, 0), jnp.maximum(K - ST, 0))\n",
    "base_prices = jnp.mean(base_payoffs, axis = 0)[:,jnp.newaxis]\n",
    "print(base_prices.shape, 1., jnp.transpose(K).shape, T)\n",
    "base_vols = vec_bsinv(base_prices, 1., jnp.transpose(K), T)\n",
    "print(base_vols)"
   ]
  },
  {
   "cell_type": "code",
   "execution_count": 14,
   "metadata": {},
   "outputs": [
    {
     "name": "stdout",
     "output_type": "stream",
     "text": [
      "(3, 1) 1.0 (3, 1) 0.25\n"
     ]
    }
   ],
   "source": [
    "print(base_prices.shape, 1., jnp.transpose(K).shape, T)"
   ]
  },
  {
   "cell_type": "markdown",
   "metadata": {},
   "source": [
    "Do the same for the Mixed estimator, including the quadratic variation, $\\mathrm{QV} = \\int_0^t V_u \\mathrm{d}u$, and variation budget, $\\mathrm{Q}$"
   ]
  },
  {
   "cell_type": "code",
   "execution_count": 15,
   "metadata": {},
   "outputs": [
    {
     "name": "stdout",
     "output_type": "stream",
     "text": [
      "[[0.00604384]\n",
      " [0.01779769]\n",
      " [0.01061116]\n",
      " ...\n",
      " [0.0053889 ]\n",
      " [0.00974503]\n",
      " [0.01191587]]\n",
      "0.6906224790029397\n"
     ]
    }
   ],
   "source": [
    "QV = jnp.sum(V, axis = 1)[:,jnp.newaxis] * dt\n",
    "print(QV)\n",
    "Q = jnp.max(QV) + 1e-9 \n",
    "print(Q)"
   ]
  },
  {
   "cell_type": "markdown",
   "metadata": {},
   "source": [
    "$$X = BS\\left((1 - \\rho^2)\\int_0^t V_u\\mathrm{d}u; S^1_t,k\\right),\\quad Y = BS\\left(\\rho^2\\left(Q - \\int_0^t V_u\\mathrm{d}u\\right); S^1_t,k\\right)$$"
   ]
  },
  {
   "cell_type": "code",
   "execution_count": 27,
   "metadata": {},
   "outputs": [
    {
     "name": "stdout",
     "output_type": "stream",
     "text": [
      "[[37660.84409156]]\n",
      "[[0.29649527]\n",
      " [0.2055458 ]\n",
      " [0.16007107]]\n"
     ]
    }
   ],
   "source": [
    "S1T = S1[:,-1][:,jnp.newaxis]\n",
    "print(n_req(S1T))\n",
    "X = rB.bs(S1T, K, (1 - rho**2) * QV)\n",
    "Y = rB.bs(S1T, K, rho**2 * (Q - QV))\n",
    "eY = rB.bs(1., K, rho**2 * Q)\n",
    "\n",
    "# Asymptotically optimal weights\n",
    "c = jnp.zeros_like(k)[jnp.newaxis,:]\n",
    "def cov_mat_func(i, c):\n",
    "    cov_mat = jnp.cov(X[:, i], Y[:, i])\n",
    "    c = c.at[0, i].set(-cov_mat[0, 1] / cov_mat[1, 1])\n",
    "    return c\n",
    "\n",
    "c = jax.lax.fori_loop(0, len(k), cov_mat_func, c)\n",
    "\n",
    "# Payoffs, prices and volatilities\n",
    "mixed_payoffs = X + c * (Y - eY)\n",
    "mixed_prices = jnp.mean(mixed_payoffs, axis = 0)[:,jnp.newaxis]\n",
    "mixed_vols = vec_bsinv(mixed_prices, 1., jnp.transpose(K), T)\n",
    "print(mixed_vols)"
   ]
  },
  {
   "cell_type": "markdown",
   "metadata": {},
   "source": [
    "Now plot implied volatilities against Base and Mixed estimators"
   ]
  },
  {
   "cell_type": "code",
   "execution_count": 17,
   "metadata": {},
   "outputs": [
    {
     "name": "stdout",
     "output_type": "stream",
     "text": [
      "Runtime: 10.408330 seconds with 100000 paths\n"
     ]
    },
    {
     "data": {
      "image/png": "[encoded data removed]",
      "text/plain": [
       "<Figure size 640x480 with 1 Axes>"
      ]
     },
     "metadata": {},
     "output_type": "display_data"
    }
   ],
   "source": [
    "plot,axes = plt.subplots()\n",
    "# Add Implied, Base and Mixed vols\n",
    "axes.plot(k, implied_vols, 'bo', fillstyle = 'none', ms = 10, mew = 2)\n",
    "axes.plot(k, base_vols, 'gx', ms = 7, mew = 2)\n",
    "axes.plot(k, mixed_vols, 'rx', ms = 7, mew = 2)\n",
    "# Label figure\n",
    "axes.set_xlabel(r'$k$',fontsize=16)\n",
    "axes.set_ylabel(r'$\\sigma_{BS}(k,t=%.2f)$'%T,fontsize=16)\n",
    "title1 = r'$\\mathrm{Base\\ vs\\ Mixed\\ estimators}$'\n",
    "title2 = r'$\\xi=%.3f,\\ \\eta=%.2f,\\ \\rho=%.2f,\\ \\alpha=%.2f $'\n",
    "axes.set_title(title1+'\\n'+title2%(xi,eta,rho,a), fontsize=16)\n",
    "axes.legend([r'$\\mathrm{Implied}$',r'$\\mathrm{Base}$',r'$\\mathrm{Mixed}$'], fontsize=14)\n",
    "# Set scale to match paper\n",
    "set_scale = True\n",
    "if set_scale:\n",
    "    xmin,xmax = -0.25,0.15\n",
    "    ymin,ymax =  0.14,0.34\n",
    "    nticks = 5\n",
    "    plt.xlim([xmin,xmax])\n",
    "    plt.ylim([ymin,ymax])\n",
    "    axes.xaxis.set_ticks(jnp.linspace(xmin,xmax,nticks))\n",
    "    axes.yaxis.set_ticks(jnp.linspace(ymin,ymax,nticks))\n",
    "plt.grid(True)\n",
    "print(f\"Runtime: {(time.time() - time_start):2f} seconds with {N} paths\")"
   ]
  },
  {
   "cell_type": "markdown",
   "metadata": {},
   "source": [
    "Please do not attempt to draw conclusions regarding the relative performance of the Base and Mixed estimators from just one (or several) simulation(s) / seed(s) !"
   ]
  }
 ],
 "metadata": {
  "anaconda-cloud": {},
  "kernelspec": {
   "display_name": ".venv",
   "language": "python",
   "name": "python3"
  },
  "language_info": {
   "codemirror_mode": {
    "name": "ipython",
    "version": 3
   },
   "file_extension": ".py",
   "mimetype": "text/x-python",
   "name": "python",
   "nbconvert_exporter": "python",
   "pygments_lexer": "ipython3",
   "version": "3.12.1"
  }
 },
 "nbformat": 4,
 "nbformat_minor": 1
}
